{
 "cells": [
  {
   "cell_type": "markdown",
   "metadata": {},
   "source": [
    "# Importing tables and getting them into the correct format\n",
    "Required packages are: <br />\n",
    "Pandas <br />\n",
    "Numpy <br />\n",
    "Mathplotlib <br />\n",
    "sklearn <br />\n",
    "Collections <br />\n",
    "imbleran (has to be version 0.62)<br />\n",
    "scipy  <br />"
   ]
  },
  {
   "cell_type": "markdown",
   "metadata": {},
   "source": [
    "# Load packages"
   ]
  },
  {
   "cell_type": "code",
   "execution_count": 5,
   "metadata": {},
   "outputs": [],
   "source": [
    "import pandas as pd\n",
    "import numpy as np\n",
    "import matplotlib.pyplot as plt\n",
    "from sklearn import metrics\n",
    "from sklearn.naive_bayes import BernoulliNB\n",
    "from collections import Counter\n",
    "from imblearn.over_sampling import SMOTENC\n",
    "from sklearn.ensemble import GradientBoostingClassifier\n",
    "from scipy.stats import mode"
   ]
  },
  {
   "cell_type": "markdown",
   "metadata": {},
   "source": [
    "# Load data and convert it to one-hot-encoding format"
   ]
  },
  {
   "cell_type": "code",
   "execution_count": 6,
   "metadata": {},
   "outputs": [],
   "source": [
    "#Convert data in one-hot-encoding format\n",
    "#Get unique values from all the columns\n",
    "Data = pd.read_csv('./Data/MC_Results_Processed.csv',sep=',')\n",
    "def Get_unique_values(DF):\n",
    "    #remove the contestant name and season\n",
    "    DF = DF[DF.columns[2:-1]]\n",
    "    unique_list = []\n",
    "    for i in range(len(DF.columns)):\n",
    "        col_name = DF.columns[i]\n",
    "        Unique_entry = pd.unique(DF[col_name])\n",
    "        for j in Unique_entry:\n",
    "            if j not in unique_list:\n",
    "                unique_list.append(j)\n",
    "        else:\n",
    "            pass\n",
    "    return unique_list\n",
    "\n",
    "def Get_unique_labels(df):\n",
    "    lables = df[df.columns[-1]]\n",
    "    unique_labels = pd.unique(lables)\n",
    "    return np.array(unique_labels)\n",
    "Get_unique_labels(Data)\n",
    "Unique_Entries = Get_unique_values(Data)\n",
    "Unique_lables= Get_unique_labels(Data)\n",
    "Lables = Data[Data.columns[-1]]\n",
    "\n",
    "\n",
    "#Use unique Entries and lables to convert to one-hot-encoding\n",
    "def encode_labels(Data,Unique_lables):\n",
    "    Label = Data[Data.columns[-1]]\n",
    "    List = []\n",
    "    for i in Label:\n",
    "        Bool_Vector = i == np.array(Unique_lables)\n",
    "        Hot_encoded_vector = Bool_Vector * np.ones(np.shape(Bool_Vector))\n",
    "        List.append(Hot_encoded_vector)\n",
    "    List = np.vstack(List)\n",
    "    return List   \n",
    "\n",
    "\n",
    "def Unique_Features(Data):\n",
    "    DF = Data\n",
    "    DF = DF[DF.columns[2:-1]]\n",
    "    List = []\n",
    "    for i in range(len(DF)):\n",
    "        Row_core = DF.iloc[i]\n",
    "        row = Row_core.to_frame().T\n",
    "        row_values= row.values.tolist()\n",
    "        for j in range(len(DF.columns)):\n",
    "            Entry = row_values[0][j]\n",
    "            if Entry not in List:\n",
    "                List.append(Entry)\n",
    "            else:\n",
    "                pass\n",
    "    return np.array(List) \n",
    "\n",
    "def Hot_encode_x(DF,Unique_Entries):\n",
    "    '''Input the Data including paritciplants name and lable and will \n",
    "    output a list within a list representing the rows. \n",
    "    Inside these row list are arrays of the hot-encoded features'''\n",
    "    DF = DF[DF.columns[2:-1]]\n",
    "    List =[]\n",
    "    for i in range(len(DF)):\n",
    "        Row_list = []\n",
    "        Row_core = DF.iloc[i]\n",
    "        row = Row_core.to_frame().T\n",
    "        row_values= row.values.tolist()\n",
    "        for j in range(len(DF.columns)):\n",
    "            Entry = row_values[0][j]\n",
    "            Bool_vector = Entry == np.array(Unique_Entries)\n",
    "            Hot_encode_vector = np.array(Bool_vector) * np.ones(np.shape(Unique_Entries))\n",
    "            Row_list.append(Hot_encode_vector)\n",
    "        List.append(Row_list)\n",
    "    Array_List = []\n",
    "    for i in range(len(List)):\n",
    "        row = List[i]\n",
    "        array = np.concatenate(row)\n",
    "        Array_List.append(array)\n",
    "    X_vector = np.vstack(Array_List)\n",
    "    return X_vector\n",
    "\n"
   ]
  },
  {
   "cell_type": "markdown",
   "metadata": {},
   "source": [
    "There are 13 different catagorical features used to measure contestant performance in challenges. \n",
    "\n",
    "| Entry | Meaning |\n",
    "| --- | --- | \n",
    "|Btm | Contestant performance was in the \"bottom\" group\n",
    "|Elim | Contestant did not compete due to elimination|\n",
    "|IN | Contestant did perform in the challenge|\n",
    "|Immune | Contestant did not perform as they are \"immune\" that round|\n",
    "|Lose | The contestant lost the challenge|\n",
    "|None | Contestant did not perform in the challenge|\n",
    "|Team 2nd | Team challenge where the contestant was apart of the second placed team|\n",
    "|Team 3rd | Team challenge where the contestant was apart of the third placed team|\n",
    "|Team Lose | Team challenge where the contestant was apart of the team that placed last|\n",
    "|Team Win | Team challenge where the contestant was apart of the winning team|\n",
    "|Top| The contestant scored in the top portion of contestants|\n",
    "|Win | The contestant won the challenge|\n"
   ]
  },
  {
   "cell_type": "code",
   "execution_count": 7,
   "metadata": {},
   "outputs": [],
   "source": [
    "#Get all the unique entries to perform one-hot encoding (OHE)\n",
    "#import data\n",
    "Unique_Y_lables = Get_unique_labels(Data)\n",
    "Unique_Features = Get_unique_values(Data)\n",
    "X_Vector = Hot_encode_x(Data,Unique_Features)\n",
    "Y_Vector = encode_labels(Data,Unique_Y_lables)"
   ]
  },
  {
   "cell_type": "markdown",
   "metadata": {},
   "source": [
    "# Split data into training,cross-validation and test set"
   ]
  },
  {
   "cell_type": "code",
   "execution_count": 8,
   "metadata": {},
   "outputs": [],
   "source": [
    "#Data was in order so need to randomise the data\n",
    "Shuffle = Data.sample(frac=1,random_state = 1) #Shuffle data dividing it into 1 fraction, with seed = 1\n",
    "Shuffle.reset_index(drop=True, inplace=True)\n",
    "\n",
    "Test_index =[]\n",
    "Cross_index= []\n",
    "Train_index =[]\n",
    "for i in range(len(Shuffle)):\n",
    "    if (i/len(Shuffle)) <= 0.5:\n",
    "        Train_index.append(i)\n",
    "    elif ((i/len(Shuffle)) > 0.5 and (i/len(Shuffle)) <= 0.75):\n",
    "        Cross_index.append(i)\n",
    "    else:\n",
    "        Test_index.append(i)\n",
    "        \n",
    "Train_data = Shuffle[Shuffle.index.isin(Train_index)]\n",
    "Cross_data = Shuffle[Shuffle.index.isin(Cross_index)]\n",
    "Test_data = Shuffle[Shuffle.index.isin(Test_index)]"
   ]
  },
  {
   "cell_type": "code",
   "execution_count": 9,
   "metadata": {},
   "outputs": [],
   "source": [
    "#Create x test vector and partial training vector (need to add the oversampled data)\n",
    "Train_Y_Vector_partial = encode_labels(Train_data,Unique_lables)\n",
    "Train_X_Vector_partial = Hot_encode_x(Train_data,Unique_Features)\n",
    "\n",
    "Y_Cross = encode_labels(Cross_data,Unique_lables)\n",
    "X_Cross = Hot_encode_x(Cross_data,Unique_Features)\n",
    "\n",
    "Y_Test = encode_labels(Test_data,Unique_lables)\n",
    "X_Test = Hot_encode_x(Test_data,Unique_Features)"
   ]
  },
  {
   "cell_type": "markdown",
   "metadata": {},
   "source": [
    "# Oversampling"
   ]
  },
  {
   "cell_type": "code",
   "execution_count": 10,
   "metadata": {},
   "outputs": [],
   "source": [
    "#convert one hot encoded to catagory [0:4]\n",
    "Y_catagory = np.zeros(np.shape(Train_Y_Vector_partial)[0])\n",
    "for i in np.arange(len(Train_Y_Vector_partial )):\n",
    "    Y_catagory[i] = np.argmax(Train_Y_Vector_partial [i])\n",
    "#We want to oversample all catagories, even the majority class. To achieve this we will perform oversampling with a fake majority class\n",
    "X_Fake = np.zeros((2000,np.shape(Train_X_Vector_partial)[1]))\n",
    "Y_Fake = 5* np.ones((2000))\n",
    "#Combine real and fake data\n",
    "X_Fake_and_Real = np.vstack((Train_X_Vector_partial,X_Fake))\n",
    "Y_Fake_and_Real = np.hstack((Y_catagory,Y_Fake))"
   ]
  },
  {
   "cell_type": "code",
   "execution_count": 11,
   "metadata": {},
   "outputs": [
    {
     "name": "stdout",
     "output_type": "stream",
     "text": [
      "[(0.0, 2000), (1.0, 2000), (2.0, 2000), (3.0, 2000), (5.0, 2000)]\n"
     ]
    }
   ],
   "source": [
    "smote_nc = SMOTENC(categorical_features=[0, 5], random_state=1,k_neighbors=3) #set seed to 1\n",
    "Fake_Oversampled_X, Fake_Oversampled_Y = smote_nc.fit_resample(X_Fake_and_Real, Y_Fake_and_Real)\n",
    "print(sorted(Counter(Fake_Oversampled_Y).items()))"
   ]
  },
  {
   "cell_type": "code",
   "execution_count": 12,
   "metadata": {},
   "outputs": [],
   "source": [
    "End_of_real_data = np.min(np.where(Fake_Oversampled_Y == 5))\n",
    "Only_Fake_Oversampled_X = Fake_Oversampled_X[End_of_real_data:,:]\n",
    "Only_Fake_Oversampled_Y = Fake_Oversampled_Y[End_of_real_data:]\n",
    "#Remove the fake 5 catagorical data from the oversampled\n",
    "Index_2_remove = np.where(Only_Fake_Oversampled_Y == 5)\n",
    "Oversampled_Y = Only_Fake_Oversampled_Y[2000:]\n",
    "Oversampled_X = Only_Fake_Oversampled_X[2000:,:]# We can't include the oversampled data in the test set as its arteficial. We need to separate out the oversampled data\n",
    "#We do this with the fake 5 catagory section. \n",
    "End_of_real_data = np.min(np.where(Fake_Oversampled_Y == 5))\n",
    "Only_Fake_Oversampled_X = Fake_Oversampled_X[End_of_real_data:,:]\n",
    "Only_Fake_Oversampled_Y = Fake_Oversampled_Y[End_of_real_data:]\n",
    "#Remove the fake 5 catagorical data from the oversampled\n",
    "Index_2_remove = np.where(Only_Fake_Oversampled_Y == 5)\n",
    "Oversampled_Y = Only_Fake_Oversampled_Y[2000:]\n",
    "Oversampled_X = Only_Fake_Oversampled_X[2000:,:]\n",
    "\n",
    "#Get Oversampled_Y back into OHE format\n",
    "Temp_array = np.zeros((len(Oversampled_Y),len(Unique_lables)))\n",
    "for i in np.arange(len(Oversampled_Y)):\n",
    "    OHE_Index = (Oversampled_Y[i])\n",
    "    Temp_array[i][int(OHE_Index)] = 1\n",
    "Oversampled_Y = Temp_array\n",
    "\n",
    "X_Train = np.vstack((Train_X_Vector_partial,Oversampled_X))\n",
    "Y_Train = np.vstack((Train_Y_Vector_partial,Oversampled_Y))\n",
    "\n",
    "\n",
    "def OHE_to_catagory(OHE_Y_Vector):  \n",
    "    Temp_array = 6* np.ones(np.shape(OHE_Y_Vector)[0])\n",
    "    for i in np.arange(len(OHE_Y_Vector)):\n",
    "        Temp_array[i] = np.argmax(OHE_Y_Vector[i])\n",
    "    return Temp_array\n",
    "\n",
    "Y_Test_catagory = OHE_to_catagory(Y_Test)"
   ]
  },
  {
   "cell_type": "markdown",
   "metadata": {},
   "source": [
    "# Priciple Component analysis\n",
    "\n",
    "One-hot-encoding carries the disadvantage that it greatly increases the number of attributes. To compensate for this, PCA will be performed to reduce the number of features so that only those that are informative will remain. This is particularly effective in this scenario as most of the features produced in the encoding are 0 and therefore uninformative."
   ]
  },
  {
   "cell_type": "code",
   "execution_count": 13,
   "metadata": {},
   "outputs": [],
   "source": [
    "#Perform PCA on data\n",
    "def PCA(X_vector):\n",
    "    Size = len(X_vector)\n",
    "    mu = np.mean(X_vector, axis=0)\n",
    "    Covar = 1.0 / (Size-1) * np.dot((X_vector-mu).T, (X_vector-mu))\n",
    "    # Perform eigendecomposistion\n",
    "    E_vec,E_val = np.linalg.eigh(Covar)\n",
    "    E_vec = E_vec[::-1]\n",
    "    E_val =E_val[:, ::-1]\n",
    "    return E_val, E_vec    "
   ]
  },
  {
   "cell_type": "code",
   "execution_count": 14,
   "metadata": {},
   "outputs": [],
   "source": [
    "Eigen_Vec,Eigen_Val = PCA(X_Vector)"
   ]
  },
  {
   "cell_type": "code",
   "execution_count": 15,
   "metadata": {},
   "outputs": [
    {
     "data": {
      "text/plain": [
       "Text(0, 0.5, 'Eigenvalue')"
      ]
     },
     "execution_count": 15,
     "metadata": {},
     "output_type": "execute_result"
    },
    {
     "data": {
      "image/png": "[encoded data removed]",
      "text/plain": [
       "<Figure size 432x288 with 1 Axes>"
      ]
     },
     "metadata": {
      "needs_background": "light"
     },
     "output_type": "display_data"
    }
   ],
   "source": [
    "plt.plot(Eigen_Val)\n",
    "plt.xlabel('Eigenvalue #')\n",
    "plt.ylabel('Eigenvalue')"
   ]
  },
  {
   "cell_type": "code",
   "execution_count": 16,
   "metadata": {},
   "outputs": [
    {
     "name": "stdout",
     "output_type": "stream",
     "text": [
      "The first 72 eigenvectors make up 90% of the variance in the data\n"
     ]
    }
   ],
   "source": [
    "#Select n eigen values to account for 95% of variation\n",
    "Eigen_percent = Eigen_Val/np.sum(Eigen_Val)\n",
    "Principle_eigen_vals = np.zeros(1)\n",
    "for i in np.arange(len(Eigen_percent)):\n",
    "    if i == 0:\n",
    "        Principle_eigen_vals[i] = Eigen_percent[i]\n",
    "    else: \n",
    "        Principle_eigen_vals = np.hstack((Principle_eigen_vals,Eigen_percent[i]))\n",
    "    if np.sum(Principle_eigen_vals) >= 0.95:\n",
    "        break\n",
    "d=len(Principle_eigen_vals)\n",
    "print(\"The first\",d, \"eigenvectors make up 90% of the variance in the data\")"
   ]
  },
  {
   "cell_type": "code",
   "execution_count": 17,
   "metadata": {},
   "outputs": [
    {
     "data": {
      "text/plain": [
       "(816, 72)"
      ]
     },
     "execution_count": 17,
     "metadata": {},
     "output_type": "execute_result"
    }
   ],
   "source": [
    "Principle_components = Eigen_Vec[:, 0:d]\n",
    "np.shape(Principle_components)"
   ]
  },
  {
   "cell_type": "markdown",
   "metadata": {},
   "source": [
    "# Reduce dimensions of different datasets and Augment data"
   ]
  },
  {
   "cell_type": "code",
   "execution_count": 18,
   "metadata": {},
   "outputs": [],
   "source": [
    "Reduced_X_Train = np.dot((X_Train - np.mean(X_Vector,axis=0)), Principle_components) \n",
    "Reduced_X_Cross = np.dot((X_Cross - np.mean(X_Vector,axis=0)), Principle_components) \n",
    "Reduced_X_Test = np.dot((X_Test- np.mean(X_Vector,axis=0)), Principle_components) "
   ]
  },
  {
   "cell_type": "code",
   "execution_count": 19,
   "metadata": {},
   "outputs": [],
   "source": [
    "#Augment the text vectors\n",
    "X_Train_aug = np.hstack((np.ones((np.shape(Reduced_X_Train)[0],1)),Reduced_X_Train))\n",
    "X_Cross_aug = np.hstack((np.ones((np.shape(Reduced_X_Cross)[0],1)),Reduced_X_Cross))\n",
    "X_Test_aug = np.hstack((np.ones((np.shape(Reduced_X_Test)[0],1)),Reduced_X_Test))"
   ]
  },
  {
   "cell_type": "markdown",
   "metadata": {},
   "source": [
    "# Initialise theta vector"
   ]
  },
  {
   "cell_type": "code",
   "execution_count": 20,
   "metadata": {},
   "outputs": [
    {
     "name": "stdout",
     "output_type": "stream",
     "text": [
      "(73, 4)\n"
     ]
    }
   ],
   "source": [
    "theta_vector = np.zeros((np.shape(X_Test_aug)[1],len(Unique_lables)))\n",
    "print(np.shape(theta_vector))"
   ]
  },
  {
   "cell_type": "markdown",
   "metadata": {},
   "source": [
    "# Logistic regression model"
   ]
  },
  {
   "cell_type": "code",
   "execution_count": 21,
   "metadata": {},
   "outputs": [],
   "source": [
    "def h(x,theta):\n",
    "    return 1/(1 + np.exp(-np.dot(x,theta)))"
   ]
  },
  {
   "cell_type": "code",
   "execution_count": 22,
   "metadata": {},
   "outputs": [],
   "source": [
    "def Train_logistic(x,y,theta_inital,alpha,epsilon,lam):\n",
    "    Total_mean_error = []\n",
    "    N = np.shape(x)[0]\n",
    "    theta = np.copy(theta_inital)\n",
    "    reg = 1-(alpha*(lam/N))\n",
    "    converged = False\n",
    "    while not converged:\n",
    "        Output = h(x,theta)\n",
    "        Error = (Output - y)\n",
    "        Derivative_h = Output * (1-Output) * Error\n",
    "        Mean_sqr_error = (1/2*N) * np.sum(Error**2,axis =1)\n",
    "        Mean_error = np.mean(Mean_sqr_error,axis=0)\n",
    "        Total_mean_error.append(Mean_error)\n",
    "        prev_theta = theta.copy()\n",
    "        #update theta using regularisation\n",
    "        theta[0] = theta[0] - (alpha/N) * np.dot(x[:,0].T,Derivative_h)\n",
    "        theta[1:] = theta[1:]*reg - (alpha/N) * np.dot(x[:,1:].T,Derivative_h)\n",
    "        if np.max(theta - prev_theta) <= epsilon:\n",
    "            converged = True\n",
    "    return theta, Total_mean_error  "
   ]
  },
  {
   "cell_type": "code",
   "execution_count": 23,
   "metadata": {},
   "outputs": [],
   "source": [
    "def predict(x_Test, theta):\n",
    "    Temp_array = 6* np.ones(np.shape(x_Test)[0])\n",
    "    Output = h(x_Test,theta)\n",
    "    for i in np.arange(len(x_Test)):\n",
    "        Temp_array[i] = np.argmax(Output[i])\n",
    "    return Temp_array"
   ]
  },
  {
   "cell_type": "markdown",
   "metadata": {},
   "source": [
    "# Tune hyper parameters \n",
    "Tune alpha"
   ]
  },
  {
   "cell_type": "code",
   "execution_count": 24,
   "metadata": {},
   "outputs": [],
   "source": [
    "Y_test_cat = OHE_to_catagory(Y_Test)"
   ]
  },
  {
   "cell_type": "code",
   "execution_count": 25,
   "metadata": {},
   "outputs": [],
   "source": [
    "alpha_range = np.arange(0,0.25,0.001)\n",
    "Range = np.arange(len(alpha_range))\n",
    "Alpha_Accuracy = np.zeros(len(alpha_range))\n",
    "for i in Range:\n",
    "    theta, error = Train_logistic(X_Cross_aug,Y_Cross,theta_vector,alpha_range[i],epsilon=0.0005,lam=0)#turn off regularisation\n",
    "    Y_predicted = predict(X_Test_aug,theta)\n",
    "    Y_predicted = predict(X_Test_aug,theta)\n",
    "    accuracy_temp = metrics.f1_score(Y_test_cat,Y_predicted,average='weighted')\n",
    "    Alpha_Accuracy[i] = accuracy_temp"
   ]
  },
  {
   "cell_type": "code",
   "execution_count": 26,
   "metadata": {
    "scrolled": true
   },
   "outputs": [
    {
     "data": {
      "image/png": "[encoded data removed]",
      "text/plain": [
       "<Figure size 432x288 with 1 Axes>"
      ]
     },
     "metadata": {
      "needs_background": "light"
     },
     "output_type": "display_data"
    }
   ],
   "source": [
    "plt.figure()\n",
    "plt.plot(alpha_range,Alpha_Accuracy)\n",
    "plt.xlabel(r'$ \\alpha $ value')\n",
    "plt.ylabel('Weighted F1 Score')\n",
    "plt.title('Accuracy vs alpha');"
   ]
  },
  {
   "cell_type": "code",
   "execution_count": 27,
   "metadata": {},
   "outputs": [
    {
     "data": {
      "text/plain": [
       "0.122"
      ]
     },
     "execution_count": 27,
     "metadata": {},
     "output_type": "execute_result"
    }
   ],
   "source": [
    "Optimal_alpha = alpha_range[np.argmax(Alpha_Accuracy)]\n",
    "Optimal_alpha"
   ]
  },
  {
   "cell_type": "markdown",
   "metadata": {},
   "source": [
    "Tune Lamda"
   ]
  },
  {
   "cell_type": "code",
   "execution_count": 28,
   "metadata": {},
   "outputs": [],
   "source": [
    "lam_range = np.arange(0,1000,50)\n",
    "Range = np.arange(len(lam_range))\n",
    "Lam_Accuracy = np.zeros(len(lam_range))\n",
    "for i in Range:\n",
    "    theta, error = Train_logistic(X_Cross_aug,Y_Cross,theta_vector,Optimal_alpha,epsilon=0.0005,lam = lam_range[i])\n",
    "    accuracy_temp = metrics.f1_score(Y_test_cat,Y_predicted,average='weighted')\n",
    "    Lam_Accuracy[i] = accuracy_temp"
   ]
  },
  {
   "cell_type": "code",
   "execution_count": 29,
   "metadata": {},
   "outputs": [
    {
     "data": {
      "image/png": "[encoded data removed]",
      "text/plain": [
       "<Figure size 432x288 with 1 Axes>"
      ]
     },
     "metadata": {
      "needs_background": "light"
     },
     "output_type": "display_data"
    }
   ],
   "source": [
    "plt.figure()\n",
    "plt.plot(lam_range,Lam_Accuracy)\n",
    "plt.xlabel(r'$ \\lambda $')\n",
    "plt.ylabel('Weighted F1')\n",
    "plt.title('F1 score vs 'r'$ \\lambda $');"
   ]
  },
  {
   "cell_type": "code",
   "execution_count": 30,
   "metadata": {},
   "outputs": [],
   "source": [
    "Optimal_lam = 0"
   ]
  },
  {
   "cell_type": "markdown",
   "metadata": {},
   "source": [
    "Although regularisation was implenented there does not seem to be any change to performance through tuning the lamda hyper-parameter. Therefore, regularisation will be switched off for any subsequent training."
   ]
  },
  {
   "cell_type": "markdown",
   "metadata": {},
   "source": [
    "# Train classifier"
   ]
  },
  {
   "cell_type": "code",
   "execution_count": 31,
   "metadata": {},
   "outputs": [],
   "source": [
    "theta, error = Train_logistic(X_Train_aug,Y_Train,theta_vector,alpha=Optimal_alpha,epsilon=0.0005,lam=Optimal_lam)"
   ]
  },
  {
   "cell_type": "code",
   "execution_count": 32,
   "metadata": {},
   "outputs": [
    {
     "data": {
      "image/png": "[encoded data removed]",
      "text/plain": [
       "<Figure size 432x288 with 1 Axes>"
      ]
     },
     "metadata": {
      "needs_background": "light"
     },
     "output_type": "display_data"
    }
   ],
   "source": [
    "plt.figure()\n",
    "plt.plot(np.arange(len(error)),error)\n",
    "plt.title('Mean sqaured error of Logistic regression following each training epoch')\n",
    "plt.xlabel('Epoch')\n",
    "plt.ylabel('Mean squared error');"
   ]
  },
  {
   "cell_type": "markdown",
   "metadata": {},
   "source": [
    "# Determine accuracy of logistic regression classifier"
   ]
  },
  {
   "cell_type": "code",
   "execution_count": 33,
   "metadata": {},
   "outputs": [
    {
     "name": "stdout",
     "output_type": "stream",
     "text": [
      "              precision    recall  f1-score   support\n",
      "\n",
      "         0.0       0.67      0.50      0.57         4\n",
      "         1.0       0.20      0.33      0.25         3\n",
      "         2.0       0.64      0.82      0.72        11\n",
      "         3.0       1.00      0.91      0.95        46\n",
      "\n",
      "    accuracy                           0.84        64\n",
      "   macro avg       0.63      0.64      0.62        64\n",
      "weighted avg       0.88      0.84      0.86        64\n",
      "\n",
      "[[ 2  2  0  0]\n",
      " [ 1  1  1  0]\n",
      " [ 0  2  9  0]\n",
      " [ 0  0  4 42]]\n"
     ]
    }
   ],
   "source": [
    "Log_predicted = predict(X_Test_aug,theta)\n",
    "print(metrics.classification_report(Y_test_cat,Log_predicted))\n",
    "print(metrics.confusion_matrix(Y_test_cat,Log_predicted))"
   ]
  },
  {
   "cell_type": "code",
   "execution_count": 34,
   "metadata": {},
   "outputs": [
    {
     "name": "stdout",
     "output_type": "stream",
     "text": [
      "Precision: 0.880282738095238\n",
      "Recall:  0.84375\n",
      "F1:  0.8572625811688311\n"
     ]
    }
   ],
   "source": [
    "print(\"Precision:\",metrics.precision_score(Y_test_cat,Log_predicted,average='weighted'))\n",
    "print(\"Recall: \",metrics.recall_score(Y_test_cat,Log_predicted,average='weighted'))\n",
    "print(\"F1: \",metrics.f1_score(Y_test_cat,Log_predicted,average='weighted'))"
   ]
  },
  {
   "cell_type": "markdown",
   "metadata": {},
   "source": [
    "# KNN"
   ]
  },
  {
   "cell_type": "code",
   "execution_count": 35,
   "metadata": {},
   "outputs": [],
   "source": [
    "def distance(x_vector,point):\n",
    "    a = (x_vector - point)**2\n",
    "    b = np.sum(a,axis =1)\n",
    "    dist = np.sqrt(b)\n",
    "    return dist\n",
    "def KNN(x,y,predict,k):\n",
    "    y = y.astype('int64')\n",
    "    dist = distance(x,predict)  #calculate distance\n",
    "    K_indexes = dist.argsort()[:k] \n",
    "    Y_value = y[K_indexes]\n",
    "    if k == 1:\n",
    "        Predicted = Y_value\n",
    "    else:\n",
    "        counts = np.bincount(Y_value)\n",
    "        Predicted = np.argmax(counts)\n",
    "    return Predicted"
   ]
  },
  {
   "cell_type": "code",
   "execution_count": 36,
   "metadata": {},
   "outputs": [],
   "source": [
    "#Convert OHE labels into catagories\n",
    "Y_Train_catagory = OHE_to_catagory(Y_Train)\n",
    "Y_Test_catagory = OHE_to_catagory(Y_Test)"
   ]
  },
  {
   "cell_type": "markdown",
   "metadata": {},
   "source": [
    "#  Tune hyper parameter K"
   ]
  },
  {
   "cell_type": "markdown",
   "metadata": {},
   "source": [
    "Determine the error for the training dataset"
   ]
  },
  {
   "cell_type": "code",
   "execution_count": 37,
   "metadata": {},
   "outputs": [],
   "source": [
    "#Warning ! Running this code will take a long time to run\n",
    "x= Reduced_X_Train\n",
    "y= Y_Train_catagory\n",
    "N = len(Reduced_X_Train)\n",
    "k = np.arange(90,120,2)\n",
    "Train_output = np.zeros((len(k),1))\n",
    "for K_index in np.arange(len(k)):\n",
    "    y_predicted = 5*(np.ones((np.shape(y))))\n",
    "    for i in np.arange(len(x)):\n",
    "        datum = x[i]\n",
    "        y_predict = KNN(x,y,datum,k[K_index])\n",
    "        y_predicted[i] = y_predict\n",
    "    error = (1/N) *np.sum(y_predicted != y)\n",
    "    Train_output[K_index,[0]] = error"
   ]
  },
  {
   "cell_type": "markdown",
   "metadata": {},
   "source": [
    "Determine the error for the testing dataset"
   ]
  },
  {
   "cell_type": "code",
   "execution_count": 38,
   "metadata": {},
   "outputs": [],
   "source": [
    "Y_Cross_Catagory = OHE_to_catagory(Y_Cross)\n",
    "x= Reduced_X_Cross\n",
    "y= Y_Cross_Catagory\n",
    "N = len(Reduced_X_Cross)\n",
    "k = np.arange(90,120,2)\n",
    "Cross_output = np.zeros((len(k),1))\n",
    "for K_index in np.arange(len(k)):\n",
    "    y_predicted = 5*(np.ones((np.shape(y))))\n",
    "    for i in np.arange(len(x)):\n",
    "        datum = x[i]\n",
    "        y_predict = KNN(Reduced_X_Train,Y_Train_catagory,datum,k[K_index])\n",
    "        y_predicted[i] = y_predict\n",
    "    error = (1/N) *np.sum(y_predicted != y)\n",
    "    Cross_output[K_index,[0]] = error"
   ]
  },
  {
   "cell_type": "code",
   "execution_count": 39,
   "metadata": {},
   "outputs": [
    {
     "data": {
      "text/plain": [
       "108"
      ]
     },
     "execution_count": 39,
     "metadata": {},
     "output_type": "execute_result"
    }
   ],
   "source": [
    "#Find the optimal K \n",
    "K_error = abs(np.array(Train_output)-np.array(Cross_output))\n",
    "Optimal_K = k[np.argmin(abs(np.array(Train_output)-np.array(Cross_output)))]\n",
    "Optimal_K"
   ]
  },
  {
   "cell_type": "code",
   "execution_count": 40,
   "metadata": {},
   "outputs": [
    {
     "data": {
      "image/png": "[encoded data removed]",
      "text/plain": [
       "<Figure size 432x288 with 1 Axes>"
      ]
     },
     "metadata": {
      "needs_background": "light"
     },
     "output_type": "display_data"
    }
   ],
   "source": [
    "plt.figure()\n",
    "plt.plot(k,K_error)\n",
    "plt.xlabel('K')\n",
    "plt.ylabel('Absolute difference in Loss')\n",
    "plt.title('Loss vs K');"
   ]
  },
  {
   "cell_type": "markdown",
   "metadata": {},
   "source": [
    "Predict Test data set using KNN model with optimal K"
   ]
  },
  {
   "cell_type": "code",
   "execution_count": 41,
   "metadata": {},
   "outputs": [],
   "source": [
    "KNN_predicted = 5*np.ones((np.shape(X_Test)[0],1))\n",
    "for i in np.arange(len(KNN_predicted)):\n",
    "    KNN_Temp = KNN(x=Reduced_X_Train,y=Y_Train_catagory,predict=Reduced_X_Test[i],k=Optimal_K)\n",
    "    KNN_predicted[i] = KNN_Temp"
   ]
  },
  {
   "cell_type": "code",
   "execution_count": 42,
   "metadata": {},
   "outputs": [
    {
     "name": "stdout",
     "output_type": "stream",
     "text": [
      "              precision    recall  f1-score   support\n",
      "\n",
      "         0.0       0.50      0.50      0.50         4\n",
      "         1.0       0.20      0.33      0.25         3\n",
      "         2.0       0.67      0.55      0.60        11\n",
      "         3.0       0.93      0.93      0.93        46\n",
      "\n",
      "    accuracy                           0.81        64\n",
      "   macro avg       0.58      0.58      0.57        64\n",
      "weighted avg       0.83      0.81      0.82        64\n",
      "\n",
      "[[ 2  2  0  0]\n",
      " [ 2  1  0  0]\n",
      " [ 0  2  6  3]\n",
      " [ 0  0  3 43]]\n"
     ]
    }
   ],
   "source": [
    "print(metrics.classification_report(Y_test_cat,KNN_predicted))\n",
    "print(metrics.confusion_matrix(Y_test_cat,KNN_predicted))"
   ]
  },
  {
   "cell_type": "code",
   "execution_count": 43,
   "metadata": {},
   "outputs": [
    {
     "name": "stdout",
     "output_type": "stream",
     "text": [
      "Precision:  0.8270833333333334\n",
      "Recall:  0.8125\n",
      "F1:  0.81796875\n"
     ]
    }
   ],
   "source": [
    "print(\"Precision: \",metrics.precision_score(Y_test_cat,KNN_predicted,average='weighted'))\n",
    "print(\"Recall: \",metrics.recall_score(Y_test_cat,KNN_predicted,average='weighted'))\n",
    "print(\"F1: \",metrics.f1_score(Y_test_cat,KNN_predicted,average='weighted'))"
   ]
  },
  {
   "cell_type": "markdown",
   "metadata": {},
   "source": [
    "# XG Boost"
   ]
  },
  {
   "cell_type": "markdown",
   "metadata": {},
   "source": [
    "Tune lamda"
   ]
  },
  {
   "cell_type": "code",
   "execution_count": 44,
   "metadata": {},
   "outputs": [],
   "source": [
    "#Warning ! Running this code will take a long time to run\n",
    "XG_lam_range = np.arange(0.1,1.1,0.1)\n",
    "XG_Accuracy = []\n",
    "for i in np.arange(len(XG_lam_range)):\n",
    "    XGBoost_temp = GradientBoostingClassifier(random_state=0,learning_rate=XG_lam_range[i])\n",
    "    XGBoost_temp.fit(X_Train, Y_Train_catagory)\n",
    "    XG_predicted = XGBoost_temp.predict(X_Cross)\n",
    "    Accuracy_temp = metrics.f1_score(Y_Cross_Catagory,XG_predicted,average='weighted')\n",
    "    XG_Accuracy.append(Accuracy_temp)"
   ]
  },
  {
   "cell_type": "code",
   "execution_count": 45,
   "metadata": {
    "scrolled": true
   },
   "outputs": [
    {
     "data": {
      "image/png": "[encoded data removed]",
      "text/plain": [
       "<Figure size 432x288 with 1 Axes>"
      ]
     },
     "metadata": {
      "needs_background": "light"
     },
     "output_type": "display_data"
    }
   ],
   "source": [
    "plt.figure()\n",
    "plt.plot(XG_lam_range,XG_Accuracy)\n",
    "plt.xlabel(r'$ \\lambda $')\n",
    "plt.ylabel('Weighted F1 score');"
   ]
  },
  {
   "cell_type": "code",
   "execution_count": 46,
   "metadata": {},
   "outputs": [
    {
     "data": {
      "text/plain": [
       "0.1"
      ]
     },
     "execution_count": 46,
     "metadata": {},
     "output_type": "execute_result"
    }
   ],
   "source": [
    "XG_Optimal_Lam =  XG_lam_range[np.argmax(XG_Accuracy)]\n",
    "XG_Optimal_Lam"
   ]
  },
  {
   "cell_type": "markdown",
   "metadata": {},
   "source": [
    "Confusion matrix for XGboost on cross-validation data to see why accuracy was so high"
   ]
  },
  {
   "cell_type": "code",
   "execution_count": 47,
   "metadata": {},
   "outputs": [],
   "source": [
    "XGBoost_Cross = GradientBoostingClassifier(random_state=0,learning_rate=XG_Optimal_Lam)\n",
    "XGBoost_Cross.fit(X_Train, Y_Train_catagory)\n",
    "XG_predicted = XGBoost_Cross.predict(X_Cross)"
   ]
  },
  {
   "cell_type": "code",
   "execution_count": 48,
   "metadata": {},
   "outputs": [
    {
     "name": "stdout",
     "output_type": "stream",
     "text": [
      "              precision    recall  f1-score   support\n",
      "\n",
      "         0.0       1.00      1.00      1.00         1\n",
      "         1.0       1.00      0.25      0.40         4\n",
      "         2.0       0.67      1.00      0.80         6\n",
      "         3.0       1.00      1.00      1.00        53\n",
      "\n",
      "    accuracy                           0.95        64\n",
      "   macro avg       0.92      0.81      0.80        64\n",
      "weighted avg       0.97      0.95      0.94        64\n",
      "\n",
      "[[ 1  0  0  0]\n",
      " [ 0  1  3  0]\n",
      " [ 0  0  6  0]\n",
      " [ 0  0  0 53]]\n"
     ]
    }
   ],
   "source": [
    "print(metrics.classification_report(Y_Cross_Catagory,XG_predicted))\n",
    "print(metrics.confusion_matrix(Y_Cross_Catagory,XG_predicted))"
   ]
  },
  {
   "cell_type": "code",
   "execution_count": 49,
   "metadata": {},
   "outputs": [
    {
     "name": "stdout",
     "output_type": "stream",
     "text": [
      "Precision:  0.96875\n",
      "Recall:  0.953125\n",
      "F1:  0.94375\n"
     ]
    }
   ],
   "source": [
    "print(\"Precision: \",metrics.precision_score(Y_Cross_Catagory,XG_predicted,average='weighted'))\n",
    "print(\"Recall: \",metrics.recall_score(Y_Cross_Catagory,XG_predicted,average='weighted'))\n",
    "print(\"F1: \",metrics.f1_score(Y_Cross_Catagory,XG_predicted,average='weighted'))"
   ]
  },
  {
   "cell_type": "markdown",
   "metadata": {},
   "source": [
    "Train model and predict outcome in test data for XGboost model"
   ]
  },
  {
   "cell_type": "code",
   "execution_count": 50,
   "metadata": {
    "scrolled": true
   },
   "outputs": [],
   "source": [
    "XGBoost = GradientBoostingClassifier(random_state=0,learning_rate=XG_Optimal_Lam)\n",
    "XGBoost.fit(X_Train, Y_Train_catagory)\n",
    "XG_predicted = XGBoost.predict(X_Test)"
   ]
  },
  {
   "cell_type": "markdown",
   "metadata": {},
   "source": [
    "Determine accuacy of the fitted model"
   ]
  },
  {
   "cell_type": "code",
   "execution_count": 51,
   "metadata": {},
   "outputs": [
    {
     "name": "stdout",
     "output_type": "stream",
     "text": [
      "              precision    recall  f1-score   support\n",
      "\n",
      "         0.0       0.50      0.50      0.50         4\n",
      "         1.0       0.00      0.00      0.00         3\n",
      "         2.0       0.53      0.73      0.62        11\n",
      "         3.0       0.98      0.91      0.94        46\n",
      "\n",
      "    accuracy                           0.81        64\n",
      "   macro avg       0.50      0.54      0.51        64\n",
      "weighted avg       0.82      0.81      0.82        64\n",
      "\n",
      "[[ 2  1  1  0]\n",
      " [ 1  0  2  0]\n",
      " [ 1  1  8  1]\n",
      " [ 0  0  4 42]]\n"
     ]
    }
   ],
   "source": [
    "print(metrics.classification_report(Y_test_cat,XG_predicted))\n",
    "print(metrics.confusion_matrix(Y_test_cat,XG_predicted))"
   ]
  },
  {
   "cell_type": "code",
   "execution_count": 52,
   "metadata": {},
   "outputs": [
    {
     "name": "stdout",
     "output_type": "stream",
     "text": [
      "Precision:  0.8249515503875969\n",
      "Recall:  0.8125\n",
      "F1:  0.8153900172860846\n"
     ]
    }
   ],
   "source": [
    "print(\"Precision: \",metrics.precision_score(Y_test_cat,XG_predicted,average='weighted'))\n",
    "print(\"Recall: \",metrics.recall_score(Y_test_cat,XG_predicted,average='weighted'))\n",
    "print(\"F1: \",metrics.f1_score(Y_test_cat,XG_predicted,average='weighted'))"
   ]
  },
  {
   "cell_type": "markdown",
   "metadata": {},
   "source": [
    "# Bagging strategy using Logistic regression, KNN and XGBoost"
   ]
  },
  {
   "cell_type": "code",
   "execution_count": 53,
   "metadata": {},
   "outputs": [],
   "source": [
    "#Create a vector that contains all the predicted results\n",
    "All_predicted = np.hstack((Y_predicted.reshape((np.shape(Y_predicted)[0],1)),\n",
    "                           np.hstack((KNN_predicted.reshape((np.shape(KNN_predicted)[0],1)),\n",
    "                                      XG_predicted.reshape((np.shape(XG_predicted)[0],1))))))"
   ]
  },
  {
   "cell_type": "code",
   "execution_count": 54,
   "metadata": {},
   "outputs": [],
   "source": [
    "Bag_predicted = np.ones(len(All_predicted))\n",
    "for i in np.arange(len(Bag_predicted)):\n",
    "    MODE = mode(All_predicted[i])\n",
    "    Bag_predicted[i] = MODE[0]"
   ]
  },
  {
   "cell_type": "code",
   "execution_count": 55,
   "metadata": {},
   "outputs": [
    {
     "name": "stdout",
     "output_type": "stream",
     "text": [
      "              precision    recall  f1-score   support\n",
      "\n",
      "         0.0       0.60      0.75      0.67         4\n",
      "         1.0       0.25      0.33      0.29         3\n",
      "         2.0       0.67      0.73      0.70        11\n",
      "         3.0       0.98      0.91      0.94        46\n",
      "\n",
      "    accuracy                           0.84        64\n",
      "   macro avg       0.62      0.68      0.65        64\n",
      "weighted avg       0.87      0.84      0.85        64\n",
      "\n",
      "[[ 3  1  0  0]\n",
      " [ 2  1  0  0]\n",
      " [ 0  2  8  1]\n",
      " [ 0  0  4 42]]\n"
     ]
    }
   ],
   "source": [
    "print(metrics.classification_report(Y_test_cat,Bag_predicted))\n",
    "print(metrics.confusion_matrix(Y_test_cat,Bag_predicted))"
   ]
  },
  {
   "cell_type": "code",
   "execution_count": 56,
   "metadata": {},
   "outputs": [
    {
     "name": "stdout",
     "output_type": "stream",
     "text": [
      "Precision:  0.8658369670542636\n",
      "Recall:  0.84375\n",
      "F1:  0.8529955277176821\n"
     ]
    }
   ],
   "source": [
    "print(\"Precision: \",metrics.precision_score(Y_test_cat,Bag_predicted,average='weighted'))\n",
    "print(\"Recall: \",metrics.recall_score(Y_test_cat,Bag_predicted,average='weighted'))\n",
    "print(\"F1: \",metrics.f1_score(Y_test_cat,Bag_predicted,average='weighted'))"
   ]
  },
  {
   "cell_type": "markdown",
   "metadata": {},
   "source": [
    "# Determine the accuracy per week\n",
    "Rerun all the previous code but partition the data into weeks (4 features per week) to determine the predictive power as the competition proceeds. There are, at most, 17 weeks in total"
   ]
  },
  {
   "cell_type": "code",
   "execution_count": 57,
   "metadata": {},
   "outputs": [],
   "source": [
    "def masterclassifier(Dataframe ,week_number,Output_12 = False,S_12 = None, alpha=Optimal_alpha,K= Optimal_K, Lam = XG_Optimal_Lam):\n",
    "    ''' Runs the full pipeline above (oversampling, dimensionality reduction, logistic regression, KNN and XGboost). \n",
    "    Takes in the original data frame and prediction(0,1,2,3) as outputs. Will return an accuracy measure if not running on \n",
    "    the Season 12 data. \n",
    "    '''\n",
    "    #Get\n",
    "    Start_Data = Dataframe[Dataframe.columns[0:(4*week_number)+2]]\n",
    "    Start_Data['Label'] = Dataframe[Dataframe.columns[-1]]\n",
    "    Unique_Y_lables = Get_unique_labels(Dataframe)\n",
    "    Unique_Features = Get_unique_values(Dataframe)\n",
    "    X_Vector = Hot_encode_x(Start_Data,Unique_Features)\n",
    "    Y_Vector = encode_labels(Dataframe,Unique_Y_lables)\n",
    "    #_________________________________________________________\n",
    "    #Data was in order so need to randomise the data\n",
    "    if Output_12 == True:\n",
    "        Train_data = Start_Data\n",
    "        Test_data = S_12\n",
    "    else:\n",
    "        Shuffle = Start_Data.sample(frac=1,random_state=1) #Shuffle data dividing it into 1 fraction, with seed = 1\n",
    "        Shuffle.reset_index(drop=True, inplace=True)\n",
    "        Test_index =[]\n",
    "        Train_index =[]\n",
    "        for i in range(len(Shuffle)):\n",
    "            if (i/len(Shuffle)) <= 0.7:\n",
    "                Train_index.append(i)\n",
    "            else:\n",
    "                Test_index.append(i)\n",
    "\n",
    "        Train_data = Shuffle[Shuffle.index.isin(Train_index)]\n",
    "        Test_data = Shuffle[Shuffle.index.isin(Test_index)]\n",
    " \n",
    "    #Create x test vector and partial training vector (need to add the oversampled data)\n",
    "    Train_Y_Vector_partial = encode_labels(Train_data,Unique_lables)\n",
    "    Train_X_Vector_partial = Hot_encode_x(Train_data,Unique_Features)\n",
    "    Y_Test = encode_labels(Test_data,Unique_lables)\n",
    "    X_Test = Hot_encode_x(Test_data,Unique_Features)  \n",
    "    #______________________________________________\n",
    "    Y_catagory = OHE_to_catagory(Train_Y_Vector_partial)\n",
    "    #We want to oversample all catagories, even the majority class. To achieve this we will perform oversampling with a fake majority class\n",
    "    X_Fake = np.zeros((2000,np.shape(Train_X_Vector_partial)[1]))\n",
    "    Y_Fake = 5* np.ones((2000))    \n",
    "        \n",
    "        #Combine real and fake data\n",
    "    X_Fake_and_Real = np.vstack((Train_X_Vector_partial,X_Fake))\n",
    "    Y_Fake_and_Real = np.hstack((Y_catagory,Y_Fake))\n",
    "    #__________________________________________________________\n",
    "    smote_nc = SMOTENC(categorical_features=[0, 5], random_state=1) #set seed to 1\n",
    "    Fake_Oversampled_X, Fake_Oversampled_Y = smote_nc.fit_resample(X_Fake_and_Real, Y_Fake_and_Real)\n",
    "    \n",
    "    \n",
    "    End_of_real_data = np.min(np.where(Fake_Oversampled_Y == 5))\n",
    "    Only_Fake_Oversampled_X = Fake_Oversampled_X[End_of_real_data:,:]\n",
    "    Only_Fake_Oversampled_Y = Fake_Oversampled_Y[End_of_real_data:]\n",
    "    #Remove the fake 5 catagorical data from the oversampled\n",
    "    Index_2_remove = np.where(Only_Fake_Oversampled_Y == 5)\n",
    "    Oversampled_Y = Only_Fake_Oversampled_Y[2000:]\n",
    "    Oversampled_X = Only_Fake_Oversampled_X[2000:,:]# We can't include the oversampled data in the test set as its arteficial. We need to separate out the oversampled data\n",
    "    #We do this with the fake 5 catagory section. \n",
    "    End_of_real_data = np.min(np.where(Fake_Oversampled_Y == 5))\n",
    "    Only_Fake_Oversampled_X = Fake_Oversampled_X[End_of_real_data:,:]\n",
    "    Only_Fake_Oversampled_Y = Fake_Oversampled_Y[End_of_real_data:]\n",
    "    #Remove the fake 5 catagorical data from the oversampled\n",
    "    Index_2_remove = np.where(Only_Fake_Oversampled_Y == 5)\n",
    "    Oversampled_Y = Only_Fake_Oversampled_Y[2000:]\n",
    "    Oversampled_X = Only_Fake_Oversampled_X[2000:,:]\n",
    "\n",
    "    #Get Oversampled_Y back into OHE format\n",
    "    Temp_array = np.zeros((len(Oversampled_Y),len(Unique_lables)))\n",
    "    for i in np.arange(len(Oversampled_Y)):\n",
    "        OHE_Index = (Oversampled_Y[i])\n",
    "        Temp_array[i][int(OHE_Index)] = 1\n",
    "    Oversampled_Y = Temp_array\n",
    "\n",
    "    X_Train = np.vstack((Train_X_Vector_partial,Oversampled_X))\n",
    "    Y_Train = np.vstack((Train_Y_Vector_partial,Oversampled_Y))  \n",
    "    \n",
    "    #_________________________________________________________\n",
    "    Eigen_Vec,Eigen_Val = PCA(X_Vector)\n",
    "    Eigen_percent = Eigen_Val/np.sum(Eigen_Val)\n",
    "    Principle_eigen_vals = np.zeros(1)\n",
    "    for i in np.arange(len(Eigen_percent)):\n",
    "        if i == 0:\n",
    "            Principle_eigen_vals[i] = Eigen_percent[i]\n",
    "        else: \n",
    "            Principle_eigen_vals = np.hstack((Principle_eigen_vals,Eigen_percent[i]))\n",
    "        if np.sum(Principle_eigen_vals) >= 0.95:\n",
    "            break\n",
    "    d=len(Principle_eigen_vals)\n",
    "    Principle_components = Eigen_Vec[:, 0:d]\n",
    "    #_________________________________________________________\n",
    "    Reduced_X_Train = np.dot((X_Train - np.mean(X_Vector,axis=0)), Principle_components) \n",
    "    Reduced_X_Test = np.dot((X_Test- np.mean(X_Vector,axis=0)), Principle_components) \n",
    "    #_________________________________________________________\n",
    "    X_Train_aug = np.hstack((np.ones((np.shape(Reduced_X_Train)[0],1)),Reduced_X_Train))\n",
    "    X_Test_aug = np.hstack((np.ones((np.shape(Reduced_X_Test)[0],1)),Reduced_X_Test))\n",
    "    #_________________________________________________________\n",
    "    #Train and predict using logistic\n",
    "    theta_vector = np.zeros((np.shape(X_Test_aug)[1],len(Unique_lables)))\n",
    "    theta, error = Train_logistic(X_Train_aug,Y_Train,theta_vector,alpha=alpha,epsilon=0.0005,lam=0)\n",
    "    Log_predicted = predict(X_Test_aug,theta)\n",
    "    #_________________________________________________________\n",
    "    if Output_12 == False:\n",
    "        Y_test_cat = OHE_to_catagory(Y_Test)\n",
    "    else: \n",
    "        pass\n",
    "    #_________________________________________________________\n",
    "    Y_Train_catagory = OHE_to_catagory(Y_Train)\n",
    "    KNN_predicted = 5*np.ones((np.shape(X_Test)[0],1))\n",
    "    for i in np.arange(len(KNN_predicted)):\n",
    "        KNN_Temp = KNN(x=Reduced_X_Train,y=Y_Train_catagory,predict=Reduced_X_Test[i],k=Optimal_K)\n",
    "        KNN_predicted[i] = KNN_Temp\n",
    "    #_________________________________________________________\n",
    "    XGBoost = GradientBoostingClassifier(random_state=0)\n",
    "    XGBoost.fit(X_Train, Y_Train_catagory)\n",
    "    XG_predicted = XGBoost.predict(X_Test) \n",
    "    #_________________________________________________________\n",
    "    All_predicted = np.hstack((Log_predicted.reshape((np.shape(Log_predicted)[0],1)),\n",
    "                           np.hstack((KNN_predicted.reshape((np.shape(KNN_predicted)[0],1)),\n",
    "                                      XG_predicted.reshape((np.shape(XG_predicted)[0],1))))))                        \n",
    "    Bag_predicted = np.ones(len(All_predicted))\n",
    "    for i in np.arange(len(All_predicted)):\n",
    "        MODE = mode(All_predicted[i])\n",
    "        Bag_predicted[i] = MODE[0]\n",
    "    #_________________________________________________________\n",
    "    if Output_12 == False:\n",
    "        Accuracy = metrics.f1_score(Y_test_cat,Bag_predicted,average='weighted') \n",
    "    else: \n",
    "        pass\n",
    "    #_________________________________________________________\n",
    "    if Output_12 == True:    \n",
    "        return Bag_predicted\n",
    "    else:\n",
    "        return Accuracy, Bag_predicted"
   ]
  },
  {
   "cell_type": "code",
   "execution_count": 58,
   "metadata": {},
   "outputs": [],
   "source": [
    "#Warning ! Running this code will take a long time to run\n",
    "pd.options.mode.chained_assignment = None\n",
    "Weeks = np.arange(17)+1\n",
    "Week_Accuracy = []\n",
    "for i in Weeks:\n",
    "    Temp_accuracy, Ignore_prediction = masterclassifier(Dataframe=Data,week_number=i)\n",
    "    Week_Accuracy.append(Temp_accuracy)"
   ]
  },
  {
   "cell_type": "code",
   "execution_count": 59,
   "metadata": {},
   "outputs": [
    {
     "data": {
      "text/plain": [
       "''"
      ]
     },
     "execution_count": 59,
     "metadata": {},
     "output_type": "execute_result"
    },
    {
     "data": {
      "image/png": "[encoded data removed]",
      "text/plain": [
       "<Figure size 432x288 with 1 Axes>"
      ]
     },
     "metadata": {
      "needs_background": "light"
     },
     "output_type": "display_data"
    }
   ],
   "source": [
    "plt.figure()\n",
    "plt.plot(Weeks, Week_Accuracy)\n",
    "plt.xlabel('Week')\n",
    "plt.ylabel('Weighted F1 score')\n",
    ";"
   ]
  },
  {
   "cell_type": "code",
   "execution_count": 60,
   "metadata": {},
   "outputs": [
    {
     "name": "stdout",
     "output_type": "stream",
     "text": [
      "Highest accuracy:  0.8377321344198715 at Week 15\n"
     ]
    }
   ],
   "source": [
    "print('Highest accuracy: ',max(Week_Accuracy),\"at Week\",np.argmax(Week_Accuracy)+1)"
   ]
  },
  {
   "cell_type": "markdown",
   "metadata": {},
   "source": [
    "# Predict outcomes for current season\n",
    "Currently Season 12 is still running and we would like to see if we can predict the possible winners "
   ]
  },
  {
   "cell_type": "code",
   "execution_count": 61,
   "metadata": {},
   "outputs": [],
   "source": [
    "S12 = pd.read_csv('./Data/Season_12.csv',sep=',')"
   ]
  },
  {
   "cell_type": "code",
   "execution_count": 62,
   "metadata": {},
   "outputs": [],
   "source": [
    "S_12_Predictions =  masterclassifier(Dataframe=Data,week_number=11,Output_12 = True, S_12=S12)"
   ]
  },
  {
   "cell_type": "code",
   "execution_count": 63,
   "metadata": {},
   "outputs": [
    {
     "name": "stdout",
     "output_type": "stream",
     "text": [
      "[3. 2. 1. 3. 0. 2. 2. 0. 1. 3. 3. 3. 3. 3. 3. 3. 3. 3. 3. 3. 3. 3. 3. 3.]\n",
      "Accuracy at week 11 is :  0.7733031494499385\n"
     ]
    }
   ],
   "source": [
    "print(S_12_Predictions)\n",
    "print(\"Accuracy at week 11 is : \",Week_Accuracy[10])"
   ]
  },
  {
   "cell_type": "code",
   "execution_count": 64,
   "metadata": {},
   "outputs": [],
   "source": [
    "First= S12[S12.columns[1]][(np.where(S_12_Predictions == 0))[0]]\n",
    "Runner_up = S12[S12.columns[1]][(np.where(S_12_Predictions == 1))[0]]\n",
    "Top_5 = S12[S12.columns[1]][(np.where(S_12_Predictions == 2))[0]]"
   ]
  },
  {
   "cell_type": "code",
   "execution_count": 65,
   "metadata": {},
   "outputs": [
    {
     "name": "stdout",
     "output_type": "stream",
     "text": [
      "Predicted first place:  \n",
      " 4      Laura\n",
      "7    Reynold\n",
      "Name: Name, dtype: object\n",
      "Predicted Runner-up:  \n",
      " 2    Emelia\n",
      "8     Tessa\n",
      "Name: Name, dtype: object\n",
      "Predicted Top 5:  \n",
      " 1    Callum\n",
      "5       Poh\n",
      "6     Reece\n",
      "Name: Name, dtype: object\n"
     ]
    }
   ],
   "source": [
    "print(\"Predicted first place: \",'\\n',First)\n",
    "print(\"Predicted Runner-up: \",'\\n',Runner_up)\n",
    "print(\"Predicted Top 5: \",'\\n',Top_5)"
   ]
  },
  {
   "cell_type": "code",
   "execution_count": null,
   "metadata": {},
   "outputs": [],
   "source": []
  }
 ],
 "metadata": {
  "kernelspec": {
   "display_name": "Python 3",
   "language": "python",
   "name": "python3"
  },
  "language_info": {
   "codemirror_mode": {
    "name": "ipython",
    "version": 3
   },
   "file_extension": ".py",
   "mimetype": "text/x-python",
   "name": "python",
   "nbconvert_exporter": "python",
   "pygments_lexer": "ipython3",
   "version": "3.8.8"
  }
 },
 "nbformat": 4,
 "nbformat_minor": 2
}
